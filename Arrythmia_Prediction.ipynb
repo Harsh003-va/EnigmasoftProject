{
  "cells": [
    {
      "cell_type": "markdown",
      "metadata": {
        "id": "view-in-github",
        "colab_type": "text"
      },
      "source": [
        "<a href=\"https://colab.research.google.com/github/Harsh003-va/EnigmasoftProject/blob/main/Arrythmia_Prediction.ipynb\" target=\"_parent\"><img src=\"https://colab.research.google.com/assets/colab-badge.svg\" alt=\"Open In Colab\"/></a>"
      ]
    },
    {
      "cell_type": "markdown",
      "metadata": {
        "id": "UZU1MHPz_Itr"
      },
      "source": [
        "# **PREDICTION AND CLASSIFICATION OF CARDIAC ARRYTHMIA USING DEEP LEARNING**\n",
        "\n"
      ]
    },
    {
      "cell_type": "code",
      "execution_count": null,
      "metadata": {
        "colab": {
          "base_uri": "https://localhost:8080/",
          "height": 1000
        },
        "id": "hmFo85DEyA8y",
        "outputId": "89debbee-f78d-4ffc-9900-f5fa7deb62ce"
      },
      "outputs": [
        {
          "output_type": "stream",
          "name": "stdout",
          "text": [
            "Collecting tensorflow==2.11.0\n",
            "  Downloading tensorflow-2.11.0-cp310-cp310-manylinux_2_17_x86_64.manylinux2014_x86_64.whl (588.3 MB)\n",
            "\u001b[2K     \u001b[90m━━━━━━━━━━━━━━━━━━━━━━━━━━━━━━━━━━━━━━━\u001b[0m \u001b[32m588.3/588.3 MB\u001b[0m \u001b[31m2.6 MB/s\u001b[0m eta \u001b[36m0:00:00\u001b[0m\n",
            "\u001b[?25hRequirement already satisfied: absl-py>=1.0.0 in /usr/local/lib/python3.10/dist-packages (from tensorflow==2.11.0) (1.4.0)\n",
            "Requirement already satisfied: astunparse>=1.6.0 in /usr/local/lib/python3.10/dist-packages (from tensorflow==2.11.0) (1.6.3)\n",
            "Requirement already satisfied: flatbuffers>=2.0 in /usr/local/lib/python3.10/dist-packages (from tensorflow==2.11.0) (23.5.26)\n",
            "Requirement already satisfied: gast<=0.4.0,>=0.2.1 in /usr/local/lib/python3.10/dist-packages (from tensorflow==2.11.0) (0.4.0)\n",
            "Requirement already satisfied: google-pasta>=0.1.1 in /usr/local/lib/python3.10/dist-packages (from tensorflow==2.11.0) (0.2.0)\n",
            "Requirement already satisfied: grpcio<2.0,>=1.24.3 in /usr/local/lib/python3.10/dist-packages (from tensorflow==2.11.0) (1.56.0)\n",
            "Requirement already satisfied: h5py>=2.9.0 in /usr/local/lib/python3.10/dist-packages (from tensorflow==2.11.0) (3.8.0)\n",
            "Collecting keras<2.12,>=2.11.0 (from tensorflow==2.11.0)\n",
            "  Downloading keras-2.11.0-py2.py3-none-any.whl (1.7 MB)\n",
            "\u001b[2K     \u001b[90m━━━━━━━━━━━━━━━━━━━━━━━━━━━━━━━━━━━━━━━━\u001b[0m \u001b[32m1.7/1.7 MB\u001b[0m \u001b[31m83.6 MB/s\u001b[0m eta \u001b[36m0:00:00\u001b[0m\n",
            "\u001b[?25hRequirement already satisfied: libclang>=13.0.0 in /usr/local/lib/python3.10/dist-packages (from tensorflow==2.11.0) (16.0.0)\n",
            "Requirement already satisfied: numpy>=1.20 in /usr/local/lib/python3.10/dist-packages (from tensorflow==2.11.0) (1.22.4)\n",
            "Requirement already satisfied: opt-einsum>=2.3.2 in /usr/local/lib/python3.10/dist-packages (from tensorflow==2.11.0) (3.3.0)\n",
            "Requirement already satisfied: packaging in /usr/local/lib/python3.10/dist-packages (from tensorflow==2.11.0) (23.1)\n",
            "Collecting protobuf<3.20,>=3.9.2 (from tensorflow==2.11.0)\n",
            "  Downloading protobuf-3.19.6-cp310-cp310-manylinux_2_17_x86_64.manylinux2014_x86_64.whl (1.1 MB)\n",
            "\u001b[2K     \u001b[90m━━━━━━━━━━━━━━━━━━━━━━━━━━━━━━━━━━━━━━━━\u001b[0m \u001b[32m1.1/1.1 MB\u001b[0m \u001b[31m41.9 MB/s\u001b[0m eta \u001b[36m0:00:00\u001b[0m\n",
            "\u001b[?25hRequirement already satisfied: setuptools in /usr/local/lib/python3.10/dist-packages (from tensorflow==2.11.0) (67.7.2)\n",
            "Requirement already satisfied: six>=1.12.0 in /usr/local/lib/python3.10/dist-packages (from tensorflow==2.11.0) (1.16.0)\n",
            "Collecting tensorboard<2.12,>=2.11 (from tensorflow==2.11.0)\n",
            "  Downloading tensorboard-2.11.2-py3-none-any.whl (6.0 MB)\n",
            "\u001b[2K     \u001b[90m━━━━━━━━━━━━━━━━━━━━━━━━━━━━━━━━━━━━━━━━\u001b[0m \u001b[32m6.0/6.0 MB\u001b[0m \u001b[31m103.2 MB/s\u001b[0m eta \u001b[36m0:00:00\u001b[0m\n",
            "\u001b[?25hCollecting tensorflow-estimator<2.12,>=2.11.0 (from tensorflow==2.11.0)\n",
            "  Downloading tensorflow_estimator-2.11.0-py2.py3-none-any.whl (439 kB)\n",
            "\u001b[2K     \u001b[90m━━━━━━━━━━━━━━━━━━━━━━━━━━━━━━━━━━━━━━\u001b[0m \u001b[32m439.2/439.2 kB\u001b[0m \u001b[31m41.6 MB/s\u001b[0m eta \u001b[36m0:00:00\u001b[0m\n",
            "\u001b[?25hRequirement already satisfied: termcolor>=1.1.0 in /usr/local/lib/python3.10/dist-packages (from tensorflow==2.11.0) (2.3.0)\n",
            "Requirement already satisfied: typing-extensions>=3.6.6 in /usr/local/lib/python3.10/dist-packages (from tensorflow==2.11.0) (4.7.1)\n",
            "Requirement already satisfied: wrapt>=1.11.0 in /usr/local/lib/python3.10/dist-packages (from tensorflow==2.11.0) (1.14.1)\n",
            "Requirement already satisfied: tensorflow-io-gcs-filesystem>=0.23.1 in /usr/local/lib/python3.10/dist-packages (from tensorflow==2.11.0) (0.32.0)\n",
            "Requirement already satisfied: wheel<1.0,>=0.23.0 in /usr/local/lib/python3.10/dist-packages (from astunparse>=1.6.0->tensorflow==2.11.0) (0.40.0)\n",
            "Requirement already satisfied: google-auth<3,>=1.6.3 in /usr/local/lib/python3.10/dist-packages (from tensorboard<2.12,>=2.11->tensorflow==2.11.0) (2.17.3)\n",
            "Collecting google-auth-oauthlib<0.5,>=0.4.1 (from tensorboard<2.12,>=2.11->tensorflow==2.11.0)\n",
            "  Downloading google_auth_oauthlib-0.4.6-py2.py3-none-any.whl (18 kB)\n",
            "Requirement already satisfied: markdown>=2.6.8 in /usr/local/lib/python3.10/dist-packages (from tensorboard<2.12,>=2.11->tensorflow==2.11.0) (3.4.3)\n",
            "Requirement already satisfied: requests<3,>=2.21.0 in /usr/local/lib/python3.10/dist-packages (from tensorboard<2.12,>=2.11->tensorflow==2.11.0) (2.27.1)\n",
            "Collecting tensorboard-data-server<0.7.0,>=0.6.0 (from tensorboard<2.12,>=2.11->tensorflow==2.11.0)\n",
            "  Downloading tensorboard_data_server-0.6.1-py3-none-manylinux2010_x86_64.whl (4.9 MB)\n",
            "\u001b[2K     \u001b[90m━━━━━━━━━━━━━━━━━━━━━━━━━━━━━━━━━━━━━━━━\u001b[0m \u001b[32m4.9/4.9 MB\u001b[0m \u001b[31m105.0 MB/s\u001b[0m eta \u001b[36m0:00:00\u001b[0m\n",
            "\u001b[?25hCollecting tensorboard-plugin-wit>=1.6.0 (from tensorboard<2.12,>=2.11->tensorflow==2.11.0)\n",
            "  Downloading tensorboard_plugin_wit-1.8.1-py3-none-any.whl (781 kB)\n",
            "\u001b[2K     \u001b[90m━━━━━━━━━━━━━━━━━━━━━━━━━━━━━━━━━━━━━━\u001b[0m \u001b[32m781.3/781.3 kB\u001b[0m \u001b[31m64.0 MB/s\u001b[0m eta \u001b[36m0:00:00\u001b[0m\n",
            "\u001b[?25hRequirement already satisfied: werkzeug>=1.0.1 in /usr/local/lib/python3.10/dist-packages (from tensorboard<2.12,>=2.11->tensorflow==2.11.0) (2.3.6)\n",
            "Requirement already satisfied: cachetools<6.0,>=2.0.0 in /usr/local/lib/python3.10/dist-packages (from google-auth<3,>=1.6.3->tensorboard<2.12,>=2.11->tensorflow==2.11.0) (5.3.1)\n",
            "Requirement already satisfied: pyasn1-modules>=0.2.1 in /usr/local/lib/python3.10/dist-packages (from google-auth<3,>=1.6.3->tensorboard<2.12,>=2.11->tensorflow==2.11.0) (0.3.0)\n",
            "Requirement already satisfied: rsa<5,>=3.1.4 in /usr/local/lib/python3.10/dist-packages (from google-auth<3,>=1.6.3->tensorboard<2.12,>=2.11->tensorflow==2.11.0) (4.9)\n",
            "Requirement already satisfied: requests-oauthlib>=0.7.0 in /usr/local/lib/python3.10/dist-packages (from google-auth-oauthlib<0.5,>=0.4.1->tensorboard<2.12,>=2.11->tensorflow==2.11.0) (1.3.1)\n",
            "Requirement already satisfied: urllib3<1.27,>=1.21.1 in /usr/local/lib/python3.10/dist-packages (from requests<3,>=2.21.0->tensorboard<2.12,>=2.11->tensorflow==2.11.0) (1.26.16)\n",
            "Requirement already satisfied: certifi>=2017.4.17 in /usr/local/lib/python3.10/dist-packages (from requests<3,>=2.21.0->tensorboard<2.12,>=2.11->tensorflow==2.11.0) (2023.5.7)\n",
            "Requirement already satisfied: charset-normalizer~=2.0.0 in /usr/local/lib/python3.10/dist-packages (from requests<3,>=2.21.0->tensorboard<2.12,>=2.11->tensorflow==2.11.0) (2.0.12)\n",
            "Requirement already satisfied: idna<4,>=2.5 in /usr/local/lib/python3.10/dist-packages (from requests<3,>=2.21.0->tensorboard<2.12,>=2.11->tensorflow==2.11.0) (3.4)\n",
            "Requirement already satisfied: MarkupSafe>=2.1.1 in /usr/local/lib/python3.10/dist-packages (from werkzeug>=1.0.1->tensorboard<2.12,>=2.11->tensorflow==2.11.0) (2.1.3)\n",
            "Requirement already satisfied: pyasn1<0.6.0,>=0.4.6 in /usr/local/lib/python3.10/dist-packages (from pyasn1-modules>=0.2.1->google-auth<3,>=1.6.3->tensorboard<2.12,>=2.11->tensorflow==2.11.0) (0.5.0)\n",
            "Requirement already satisfied: oauthlib>=3.0.0 in /usr/local/lib/python3.10/dist-packages (from requests-oauthlib>=0.7.0->google-auth-oauthlib<0.5,>=0.4.1->tensorboard<2.12,>=2.11->tensorflow==2.11.0) (3.2.2)\n",
            "Installing collected packages: tensorboard-plugin-wit, tensorflow-estimator, tensorboard-data-server, protobuf, keras, google-auth-oauthlib, tensorboard, tensorflow\n",
            "  Attempting uninstall: tensorflow-estimator\n",
            "    Found existing installation: tensorflow-estimator 2.12.0\n",
            "    Uninstalling tensorflow-estimator-2.12.0:\n",
            "      Successfully uninstalled tensorflow-estimator-2.12.0\n",
            "  Attempting uninstall: tensorboard-data-server\n",
            "    Found existing installation: tensorboard-data-server 0.7.1\n",
            "    Uninstalling tensorboard-data-server-0.7.1:\n",
            "      Successfully uninstalled tensorboard-data-server-0.7.1\n",
            "  Attempting uninstall: protobuf\n",
            "    Found existing installation: protobuf 3.20.3\n",
            "    Uninstalling protobuf-3.20.3:\n",
            "      Successfully uninstalled protobuf-3.20.3\n",
            "  Attempting uninstall: keras\n",
            "    Found existing installation: keras 2.12.0\n",
            "    Uninstalling keras-2.12.0:\n",
            "      Successfully uninstalled keras-2.12.0\n",
            "  Attempting uninstall: google-auth-oauthlib\n",
            "    Found existing installation: google-auth-oauthlib 1.0.0\n",
            "    Uninstalling google-auth-oauthlib-1.0.0:\n",
            "      Successfully uninstalled google-auth-oauthlib-1.0.0\n",
            "  Attempting uninstall: tensorboard\n",
            "    Found existing installation: tensorboard 2.12.3\n",
            "    Uninstalling tensorboard-2.12.3:\n",
            "      Successfully uninstalled tensorboard-2.12.3\n",
            "  Attempting uninstall: tensorflow\n",
            "    Found existing installation: tensorflow 2.12.0\n",
            "    Uninstalling tensorflow-2.12.0:\n",
            "      Successfully uninstalled tensorflow-2.12.0\n",
            "\u001b[31mERROR: pip's dependency resolver does not currently take into account all the packages that are installed. This behaviour is the source of the following dependency conflicts.\n",
            "tensorflow-datasets 4.9.2 requires protobuf>=3.20, but you have protobuf 3.19.6 which is incompatible.\n",
            "tensorflow-metadata 1.13.1 requires protobuf<5,>=3.20.3, but you have protobuf 3.19.6 which is incompatible.\u001b[0m\u001b[31m\n",
            "\u001b[0mSuccessfully installed google-auth-oauthlib-0.4.6 keras-2.11.0 protobuf-3.19.6 tensorboard-2.11.2 tensorboard-data-server-0.6.1 tensorboard-plugin-wit-1.8.1 tensorflow-2.11.0 tensorflow-estimator-2.11.0\n"
          ]
        },
        {
          "output_type": "display_data",
          "data": {
            "application/vnd.colab-display-data+json": {
              "pip_warning": {
                "packages": [
                  "google"
                ]
              }
            }
          },
          "metadata": {}
        }
      ],
      "source": [
        "!pip install tensorflow==2.11.0"
      ]
    },
    {
      "cell_type": "code",
      "execution_count": null,
      "metadata": {
        "colab": {
          "base_uri": "https://localhost:8080/"
        },
        "id": "sn8_AW2PtRyF",
        "outputId": "cb2b823f-f926-45b4-fdae-538d9c8c0220"
      },
      "outputs": [
        {
          "name": "stdout",
          "output_type": "stream",
          "text": [
            "Requirement already satisfied: keras in /usr/local/lib/python3.10/dist-packages (2.11.0)\n",
            "Collecting wfdb\n",
            "  Downloading wfdb-4.1.2-py3-none-any.whl (159 kB)\n",
            "\u001b[2K     \u001b[90m━━━━━━━━━━━━━━━━━━━━━━━━━━━━━━━━━━━━━━━\u001b[0m \u001b[32m160.0/160.0 kB\u001b[0m \u001b[31m7.9 MB/s\u001b[0m eta \u001b[36m0:00:00\u001b[0m\n",
            "\u001b[?25hRequirement already satisfied: SoundFile>=0.10.0 in /usr/local/lib/python3.10/dist-packages (from wfdb) (0.12.1)\n",
            "Requirement already satisfied: matplotlib>=3.2.2 in /usr/local/lib/python3.10/dist-packages (from wfdb) (3.7.1)\n",
            "Requirement already satisfied: numpy>=1.10.1 in /usr/local/lib/python3.10/dist-packages (from wfdb) (1.22.4)\n",
            "Requirement already satisfied: pandas>=1.3.0 in /usr/local/lib/python3.10/dist-packages (from wfdb) (1.5.3)\n",
            "Requirement already satisfied: requests>=2.8.1 in /usr/local/lib/python3.10/dist-packages (from wfdb) (2.27.1)\n",
            "Requirement already satisfied: scipy>=1.0.0 in /usr/local/lib/python3.10/dist-packages (from wfdb) (1.10.1)\n",
            "Requirement already satisfied: contourpy>=1.0.1 in /usr/local/lib/python3.10/dist-packages (from matplotlib>=3.2.2->wfdb) (1.1.0)\n",
            "Requirement already satisfied: cycler>=0.10 in /usr/local/lib/python3.10/dist-packages (from matplotlib>=3.2.2->wfdb) (0.11.0)\n",
            "Requirement already satisfied: fonttools>=4.22.0 in /usr/local/lib/python3.10/dist-packages (from matplotlib>=3.2.2->wfdb) (4.40.0)\n",
            "Requirement already satisfied: kiwisolver>=1.0.1 in /usr/local/lib/python3.10/dist-packages (from matplotlib>=3.2.2->wfdb) (1.4.4)\n",
            "Requirement already satisfied: packaging>=20.0 in /usr/local/lib/python3.10/dist-packages (from matplotlib>=3.2.2->wfdb) (23.1)\n",
            "Requirement already satisfied: pillow>=6.2.0 in /usr/local/lib/python3.10/dist-packages (from matplotlib>=3.2.2->wfdb) (8.4.0)\n",
            "Requirement already satisfied: pyparsing>=2.3.1 in /usr/local/lib/python3.10/dist-packages (from matplotlib>=3.2.2->wfdb) (3.1.0)\n",
            "Requirement already satisfied: python-dateutil>=2.7 in /usr/local/lib/python3.10/dist-packages (from matplotlib>=3.2.2->wfdb) (2.8.2)\n",
            "Requirement already satisfied: pytz>=2020.1 in /usr/local/lib/python3.10/dist-packages (from pandas>=1.3.0->wfdb) (2022.7.1)\n",
            "Requirement already satisfied: urllib3<1.27,>=1.21.1 in /usr/local/lib/python3.10/dist-packages (from requests>=2.8.1->wfdb) (1.26.16)\n",
            "Requirement already satisfied: certifi>=2017.4.17 in /usr/local/lib/python3.10/dist-packages (from requests>=2.8.1->wfdb) (2023.5.7)\n",
            "Requirement already satisfied: charset-normalizer~=2.0.0 in /usr/local/lib/python3.10/dist-packages (from requests>=2.8.1->wfdb) (2.0.12)\n",
            "Requirement already satisfied: idna<4,>=2.5 in /usr/local/lib/python3.10/dist-packages (from requests>=2.8.1->wfdb) (3.4)\n",
            "Requirement already satisfied: cffi>=1.0 in /usr/local/lib/python3.10/dist-packages (from SoundFile>=0.10.0->wfdb) (1.15.1)\n",
            "Requirement already satisfied: pycparser in /usr/local/lib/python3.10/dist-packages (from cffi>=1.0->SoundFile>=0.10.0->wfdb) (2.21)\n",
            "Requirement already satisfied: six>=1.5 in /usr/local/lib/python3.10/dist-packages (from python-dateutil>=2.7->matplotlib>=3.2.2->wfdb) (1.16.0)\n",
            "Installing collected packages: wfdb\n",
            "Successfully installed wfdb-4.1.2\n",
            "Requirement already satisfied: numpy in /usr/local/lib/python3.10/dist-packages (1.22.4)\n",
            "Requirement already satisfied: pandas in /usr/local/lib/python3.10/dist-packages (1.5.3)\n",
            "Requirement already satisfied: python-dateutil>=2.8.1 in /usr/local/lib/python3.10/dist-packages (from pandas) (2.8.2)\n",
            "Requirement already satisfied: pytz>=2020.1 in /usr/local/lib/python3.10/dist-packages (from pandas) (2022.7.1)\n",
            "Requirement already satisfied: numpy>=1.21.0 in /usr/local/lib/python3.10/dist-packages (from pandas) (1.22.4)\n",
            "Requirement already satisfied: six>=1.5 in /usr/local/lib/python3.10/dist-packages (from python-dateutil>=2.8.1->pandas) (1.16.0)\n"
          ]
        }
      ],
      "source": [
        "!pip install keras\n",
        "!pip install wfdb\n",
        "!pip install numpy\n",
        "!pip install pandas\n",
        "\n",
        "\n"
      ]
    },
    {
      "cell_type": "code",
      "execution_count": null,
      "metadata": {
        "colab": {
          "background_save": true
        },
        "id": "5ReoStkQyqq5"
      },
      "outputs": [],
      "source": [
        "import numpy as np\n",
        "import tensorflow\n",
        "import keras\n",
        "from tensorflow.keras import backend as K\n",
        "from tensorflow.keras.models import Sequential\n",
        "from tensorflow.keras.layers import Dense, Dropout, Activation, Flatten\n",
        "from tensorflow.keras.optimizers import Adam\n",
        "from tensorflow.keras.metrics import categorical_crossentropy\n",
        "from tensorflow.keras.preprocessing.image import ImageDataGenerator\n",
        "from tensorflow.keras.layers import BatchNormalization\n",
        "from tensorflow.keras.callbacks import TensorBoard\n",
        "from tensorflow.keras.layers import Conv2D, MaxPool2D\n",
        "#from keras.layers.convolutional import *\n",
        "from matplotlib import pyplot as plt\n",
        "from sklearn.metrics import confusion_matrix\n",
        "import itertools\n",
        "import matplotlib.pyplot as plt\n",
        "import datetime\n",
        "import os"
      ]
    },
    {
      "cell_type": "code",
      "execution_count": null,
      "metadata": {
        "id": "IW39WFviy1w7"
      },
      "outputs": [],
      "source": [
        "tensorboard = TensorBoard(log_dir = os.path.join(\n",
        "    \"logs\",\n",
        "    \"fit\",\n",
        "    datetime.datetime.now().strftime(\"%Y%m%d-%H%M%S\"),\n",
        "))"
      ]
    },
    {
      "cell_type": "code",
      "execution_count": null,
      "metadata": {
        "colab": {
          "base_uri": "https://localhost:8080/"
        },
        "id": "_U0gHIAybGzb",
        "outputId": "a9f3a538-9709-4cc0-dfbd-93e43d4422a9"
      },
      "outputs": [
        {
          "name": "stdout",
          "output_type": "stream",
          "text": [
            "Mounted at /content/drive\n"
          ]
        }
      ],
      "source": [
        "from google.colab import drive\n",
        "drive.mount('/content/drive')"
      ]
    },
    {
      "cell_type": "code",
      "execution_count": null,
      "metadata": {
        "colab": {
          "background_save": true,
          "base_uri": "https://localhost:8080/"
        },
        "id": "QRe7R2qE0NX_",
        "outputId": "b6cd6bba-1250-4e40-bed6-de15648de6a6"
      },
      "outputs": [
        {
          "name": "stdout",
          "output_type": "stream",
          "text": [
            "Found 203 images belonging to 5 classes.\n",
            "Found 29 images belonging to 5 classes.\n"
          ]
        }
      ],
      "source": [
        "train_path = '/content/drive/MyDrive/Dataset/train'\n",
        "test_path = '/content/drive/MyDrive/Dataset/test'\n",
        "\n",
        "train_datagen = ImageDataGenerator(rescale=1.0/255.0, shear_range=0.2, zoom_range=0.2, horizontal_flip=True)\n",
        "test_datagen = ImageDataGenerator(rescale=1.0/255.0)\n",
        "\n",
        "train_batches = train_datagen.flow_from_directory(train_path, target_size=(128, 128), classes=['F','N','Q','S','V'], batch_size=32, class_mode='categorical')\n",
        "\n",
        "test_batches = test_datagen.flow_from_directory(test_path, target_size=(128, 128), classes=['F','N','Q','S','V'], batch_size=32, shuffle=False)"
      ]
    },
    {
      "cell_type": "code",
      "execution_count": null,
      "metadata": {
        "colab": {
          "background_save": true,
          "base_uri": "https://localhost:8080/",
          "height": 607
        },
        "id": "0CXLvnb0_zpq",
        "outputId": "8e947f92-55a4-4037-a8f8-38adcc543f1c"
      },
      "outputs": [
        {
          "data": {
            "image/png": "[encoded data removed]",
            "text/plain": [
              "<Figure size 1200x600 with 20 Axes>"
            ]
          },
          "metadata": {},
          "output_type": "display_data"
        }
      ],
      "source": [
        "import matplotlib.pyplot as plt\n",
        "\n",
        "# Retrieve a batch of preprocessed images from the training data generator\n",
        "images, labels = next(train_batches)\n",
        "\n",
        "# Display the preprocessed images\n",
        "fig, axes = plt.subplots(nrows=4, ncols=5, figsize=(12, 6))\n",
        "\n",
        "for i, ax in enumerate(axes.flatten()):\n",
        "    ax.imshow(images[i])\n",
        "    ax.axis('off')\n",
        "    ax.set_title('Class: {}'.format(labels[i]))\n",
        "\n",
        "plt.tight_layout()\n",
        "plt.show()\n"
      ]
    },
    {
      "cell_type": "code",
      "execution_count": null,
      "metadata": {
        "colab": {
          "background_save": true
        },
        "id": "1O2h6BfWAuC5"
      },
      "outputs": [],
      "source": [
        "IMAGE_SIZE = (128,128,3)\n",
        "model = Sequential()\n",
        "\n",
        "model.add(Conv2D(64, (3,3),strides = (1,1), input_shape = IMAGE_SIZE,kernel_initializer='glorot_uniform'))\n",
        "\n",
        "model.add(tensorflow.keras.layers.ELU())\n",
        "\n",
        "model.add(BatchNormalization())\n",
        "\n",
        "model.add(Conv2D(64, (3,3),strides = (1,1),kernel_initializer='glorot_uniform'))\n",
        "\n",
        "model.add(tensorflow.keras.layers.ELU())\n",
        "\n",
        "model.add(BatchNormalization())\n",
        "\n",
        "model.add(MaxPool2D(pool_size=(2, 2), strides= (2,2)))\n",
        "\n",
        "model.add(Conv2D(128, (3,3),strides = (1,1),kernel_initializer='glorot_uniform'))\n",
        "\n",
        "model.add(tensorflow.keras.layers.ELU())\n",
        "\n",
        "model.add(BatchNormalization())\n",
        "\n",
        "model.add(Conv2D(128, (3,3),strides = (1,1),kernel_initializer='glorot_uniform'))\n",
        "\n",
        "model.add(tensorflow.keras.layers.ELU())\n",
        "\n",
        "model.add(BatchNormalization())\n",
        "\n",
        "model.add(MaxPool2D(pool_size=(2, 2), strides= (2,2)))\n",
        "\n",
        "model.add(Conv2D(256, (3,3),strides = (1,1),kernel_initializer='glorot_uniform'))\n",
        "\n",
        "model.add(tensorflow.keras.layers.ELU())\n",
        "\n",
        "model.add(BatchNormalization())\n",
        "\n",
        "model.add(Conv2D(256, (3,3),strides = (1,1),kernel_initializer='glorot_uniform'))\n",
        "\n",
        "model.add(tensorflow.keras.layers.ELU())\n",
        "\n",
        "model.add(BatchNormalization())\n",
        "\n",
        "model.add(MaxPool2D(pool_size=(2, 2), strides= (2,2)))\n",
        "\n",
        "model.add(Flatten())\n",
        "\n",
        "model.add(Dense(2048))\n",
        "\n",
        "model.add(tensorflow.keras.layers.ELU())\n",
        "\n",
        "model.add(BatchNormalization())\n",
        "\n",
        "model.add(Dropout(0.5))\n",
        "\n",
        "model.add(Dense(5, activation='softmax'))\n"
      ]
    },
    {
      "cell_type": "code",
      "execution_count": null,
      "metadata": {
        "colab": {
          "background_save": true,
          "base_uri": "https://localhost:8080/"
        },
        "id": "--sWS83piNF8",
        "outputId": "84646db4-72e7-46ec-dc0c-7bc637631bec"
      },
      "outputs": [
        {
          "data": {
            "text/plain": [
              "27"
            ]
          },
          "execution_count": 20,
          "metadata": {},
          "output_type": "execute_result"
        }
      ],
      "source": [
        "len(model.layers)"
      ]
    },
    {
      "cell_type": "code",
      "execution_count": null,
      "metadata": {
        "colab": {
          "background_save": true
        },
        "id": "RCQGKLjlJsa9",
        "outputId": "186c5547-8c0b-417f-f7a9-3263f2f902e2"
      },
      "outputs": [
        {
          "name": "stderr",
          "output_type": "stream",
          "text": [
            "WARNING:absl:`lr` is deprecated, please use `learning_rate` instead, or use the legacy optimizer, e.g.,tf.keras.optimizers.legacy.Adam.\n"
          ]
        },
        {
          "name": "stdout",
          "output_type": "stream",
          "text": [
            "7\n",
            "Epoch 1/50\n",
            "7/7 [==============================] - 117s 14s/step - loss: 3.3769 - accuracy: 0.5517\n",
            "Epoch 2/50\n",
            "7/7 [==============================] - 90s 12s/step - loss: 1.5640 - accuracy: 0.7192\n",
            "Epoch 3/50\n",
            "7/7 [==============================] - 87s 12s/step - loss: 0.6775 - accuracy: 0.8079\n",
            "Epoch 4/50\n",
            "7/7 [==============================] - 85s 13s/step - loss: 0.5680 - accuracy: 0.8177\n",
            "Epoch 5/50\n",
            "7/7 [==============================] - 90s 12s/step - loss: 0.4203 - accuracy: 0.8670\n",
            "Epoch 6/50\n",
            "7/7 [==============================] - 91s 13s/step - loss: 0.4095 - accuracy: 0.8473\n",
            "Epoch 7/50\n",
            "7/7 [==============================] - 93s 13s/step - loss: 0.3401 - accuracy: 0.8621\n",
            "Epoch 8/50\n",
            "7/7 [==============================] - 89s 14s/step - loss: 0.3504 - accuracy: 0.8768\n",
            "Epoch 9/50\n",
            "7/7 [==============================] - 88s 13s/step - loss: 0.2486 - accuracy: 0.8916\n",
            "Epoch 10/50\n",
            "7/7 [==============================] - 92s 14s/step - loss: 0.4017 - accuracy: 0.8867\n",
            "Epoch 11/50\n",
            "7/7 [==============================] - 91s 13s/step - loss: 0.3442 - accuracy: 0.9113\n",
            "Epoch 12/50\n",
            "7/7 [==============================] - 87s 14s/step - loss: 0.2214 - accuracy: 0.9212\n",
            "Epoch 13/50\n",
            "7/7 [==============================] - 89s 12s/step - loss: 0.2979 - accuracy: 0.8966\n",
            "Epoch 14/50\n",
            "7/7 [==============================] - 87s 12s/step - loss: 0.2479 - accuracy: 0.9113\n",
            "Epoch 15/50\n",
            "7/7 [==============================] - 92s 13s/step - loss: 0.1916 - accuracy: 0.9409\n",
            "Epoch 16/50\n",
            "7/7 [==============================] - 95s 13s/step - loss: 0.1958 - accuracy: 0.9409\n",
            "Epoch 17/50\n",
            "7/7 [==============================] - 90s 12s/step - loss: 0.1669 - accuracy: 0.9507\n",
            "Epoch 18/50\n",
            "7/7 [==============================] - 93s 13s/step - loss: 0.3247 - accuracy: 0.9310\n",
            "Epoch 19/50\n",
            "7/7 [==============================] - 89s 12s/step - loss: 0.2275 - accuracy: 0.9360\n",
            "Epoch 20/50\n",
            "7/7 [==============================] - 90s 12s/step - loss: 0.2485 - accuracy: 0.9113\n",
            "Epoch 21/50\n",
            "7/7 [==============================] - 95s 13s/step - loss: 0.2673 - accuracy: 0.8966\n",
            "Epoch 22/50\n",
            "7/7 [==============================] - 90s 13s/step - loss: 0.1698 - accuracy: 0.9507\n",
            "Epoch 23/50\n",
            "7/7 [==============================] - 92s 13s/step - loss: 0.1608 - accuracy: 0.9409\n",
            "Epoch 24/50\n",
            "7/7 [==============================] - 91s 13s/step - loss: 0.2184 - accuracy: 0.9163\n",
            "Epoch 25/50\n",
            "7/7 [==============================] - 88s 12s/step - loss: 0.1256 - accuracy: 0.9507\n",
            "Epoch 26/50\n",
            "7/7 [==============================] - 90s 13s/step - loss: 0.1235 - accuracy: 0.9458\n",
            "Epoch 27/50\n",
            "7/7 [==============================] - 89s 12s/step - loss: 0.1279 - accuracy: 0.9557\n",
            "Epoch 28/50\n",
            "7/7 [==============================] - 88s 12s/step - loss: 0.1763 - accuracy: 0.9409\n",
            "Epoch 29/50\n",
            "7/7 [==============================] - 92s 13s/step - loss: 0.1188 - accuracy: 0.9655\n",
            "Epoch 30/50\n",
            "7/7 [==============================] - 88s 12s/step - loss: 0.1698 - accuracy: 0.9507\n",
            "Epoch 31/50\n",
            "7/7 [==============================] - 91s 13s/step - loss: 0.1348 - accuracy: 0.9507\n",
            "Epoch 32/50\n",
            "7/7 [==============================] - 92s 13s/step - loss: 0.1981 - accuracy: 0.9261\n",
            "Epoch 33/50\n",
            "7/7 [==============================] - 89s 14s/step - loss: 0.1915 - accuracy: 0.9310\n",
            "Epoch 34/50\n",
            "7/7 [==============================] - 87s 12s/step - loss: 0.1640 - accuracy: 0.9409\n",
            "Epoch 35/50\n",
            "7/7 [==============================] - 88s 12s/step - loss: 0.1380 - accuracy: 0.9655\n",
            "Epoch 36/50\n",
            "7/7 [==============================] - 87s 12s/step - loss: 0.1431 - accuracy: 0.9606\n",
            "Epoch 37/50\n",
            "7/7 [==============================] - 91s 13s/step - loss: 0.1242 - accuracy: 0.9655\n",
            "Epoch 38/50\n",
            "7/7 [==============================] - 90s 12s/step - loss: 0.1064 - accuracy: 0.9606\n",
            "Epoch 39/50\n",
            "7/7 [==============================] - 87s 14s/step - loss: 0.1321 - accuracy: 0.9557\n",
            "Epoch 40/50\n",
            "7/7 [==============================] - 89s 13s/step - loss: 0.1249 - accuracy: 0.9606\n",
            "Epoch 41/50\n",
            "7/7 [==============================] - 85s 12s/step - loss: 0.1068 - accuracy: 0.9655\n",
            "Epoch 42/50\n",
            "7/7 [==============================] - 83s 12s/step - loss: 0.0676 - accuracy: 0.9803\n",
            "Epoch 43/50\n",
            "7/7 [==============================] - 87s 12s/step - loss: 0.1188 - accuracy: 0.9606\n",
            "Epoch 44/50\n",
            "7/7 [==============================] - 85s 12s/step - loss: 0.1070 - accuracy: 0.9606\n",
            "Epoch 45/50\n",
            "7/7 [==============================] - 88s 12s/step - loss: 0.1389 - accuracy: 0.9507\n",
            "Epoch 46/50\n",
            "7/7 [==============================] - 85s 12s/step - loss: 0.1014 - accuracy: 0.9606\n",
            "Epoch 47/50\n",
            "7/7 [==============================] - 86s 12s/step - loss: 0.0665 - accuracy: 0.9803\n",
            "Epoch 48/50\n",
            "7/7 [==============================] - 88s 12s/step - loss: 0.0646 - accuracy: 0.9852\n",
            "Epoch 49/50\n",
            "7/7 [==============================] - 85s 12s/step - loss: 0.1112 - accuracy: 0.9606\n",
            "Epoch 50/50\n",
            "7/7 [==============================] - 86s 12s/step - loss: 0.0644 - accuracy: 0.9852\n"
          ]
        }
      ],
      "source": [
        "model.compile(Adam(lr=.00015), loss='categorical_crossentropy', metrics=['accuracy'])\n",
        "train_steps_per_epoch = np.math.ceil(train_batches.samples / train_batches.batch_size)\n",
        "print(train_steps_per_epoch)\n",
        "from IPython.display import display\n",
        "from PIL import Image\n",
        "history = model.fit(train_batches, steps_per_epoch=7, callbacks = [tensorboard], epochs=30)"
      ]
    },
    {
      "cell_type": "code",
      "execution_count": null,
      "metadata": {
        "id": "n_HVY2ufZcgi"
      },
      "outputs": [],
      "source": []
    },
    {
      "cell_type": "code",
      "execution_count": null,
      "metadata": {
        "colab": {
          "background_save": true,
          "base_uri": "https://localhost:8080/"
        },
        "id": "NiMsyeCTBzuu",
        "outputId": "21da2fd1-2764-4b19-fd9b-0320b33aee33"
      },
      "outputs": [
        {
          "name": "stderr",
          "output_type": "stream",
          "text": [
            "WARNING:absl:`lr` is deprecated, please use `learning_rate` instead, or use the legacy optimizer, e.g.,tf.keras.optimizers.legacy.Adam.\n"
          ]
        },
        {
          "name": "stdout",
          "output_type": "stream",
          "text": [
            "Model: \"sequential_1\"\n",
            "_________________________________________________________________\n",
            " Layer (type)                Output Shape              Param #   \n",
            "=================================================================\n",
            " conv2d_6 (Conv2D)           (None, 126, 126, 64)      1792      \n",
            "                                                                 \n",
            " elu_7 (ELU)                 (None, 126, 126, 64)      0         \n",
            "                                                                 \n",
            " batch_normalization_7 (Batc  (None, 126, 126, 64)     256       \n",
            " hNormalization)                                                 \n",
            "                                                                 \n",
            " conv2d_7 (Conv2D)           (None, 124, 124, 64)      36928     \n",
            "                                                                 \n",
            " elu_8 (ELU)                 (None, 124, 124, 64)      0         \n",
            "                                                                 \n",
            " batch_normalization_8 (Batc  (None, 124, 124, 64)     256       \n",
            " hNormalization)                                                 \n",
            "                                                                 \n",
            " max_pooling2d_3 (MaxPooling  (None, 62, 62, 64)       0         \n",
            " 2D)                                                             \n",
            "                                                                 \n",
            " conv2d_8 (Conv2D)           (None, 60, 60, 128)       73856     \n",
            "                                                                 \n",
            " elu_9 (ELU)                 (None, 60, 60, 128)       0         \n",
            "                                                                 \n",
            " batch_normalization_9 (Batc  (None, 60, 60, 128)      512       \n",
            " hNormalization)                                                 \n",
            "                                                                 \n",
            " conv2d_9 (Conv2D)           (None, 58, 58, 128)       147584    \n",
            "                                                                 \n",
            " elu_10 (ELU)                (None, 58, 58, 128)       0         \n",
            "                                                                 \n",
            " batch_normalization_10 (Bat  (None, 58, 58, 128)      512       \n",
            " chNormalization)                                                \n",
            "                                                                 \n",
            " max_pooling2d_4 (MaxPooling  (None, 29, 29, 128)      0         \n",
            " 2D)                                                             \n",
            "                                                                 \n",
            " conv2d_10 (Conv2D)          (None, 27, 27, 256)       295168    \n",
            "                                                                 \n",
            " elu_11 (ELU)                (None, 27, 27, 256)       0         \n",
            "                                                                 \n",
            " batch_normalization_11 (Bat  (None, 27, 27, 256)      1024      \n",
            " chNormalization)                                                \n",
            "                                                                 \n",
            " conv2d_11 (Conv2D)          (None, 25, 25, 256)       590080    \n",
            "                                                                 \n",
            " elu_12 (ELU)                (None, 25, 25, 256)       0         \n",
            "                                                                 \n",
            " batch_normalization_12 (Bat  (None, 25, 25, 256)      1024      \n",
            " chNormalization)                                                \n",
            "                                                                 \n",
            " max_pooling2d_5 (MaxPooling  (None, 12, 12, 256)      0         \n",
            " 2D)                                                             \n",
            "                                                                 \n",
            " flatten_1 (Flatten)         (None, 36864)             0         \n",
            "                                                                 \n",
            " dense_2 (Dense)             (None, 2048)              75499520  \n",
            "                                                                 \n",
            " elu_13 (ELU)                (None, 2048)              0         \n",
            "                                                                 \n",
            " batch_normalization_13 (Bat  (None, 2048)             8192      \n",
            " chNormalization)                                                \n",
            "                                                                 \n",
            " dropout_1 (Dropout)         (None, 2048)              0         \n",
            "                                                                 \n",
            " dense_3 (Dense)             (None, 5)                 10245     \n",
            "                                                                 \n",
            "=================================================================\n",
            "Total params: 76,666,949\n",
            "Trainable params: 76,661,061\n",
            "Non-trainable params: 5,888\n",
            "_________________________________________________________________\n"
          ]
        }
      ],
      "source": [
        "model.compile(Adam(lr=.00015), loss='categorical_crossentropy', metrics=['accuracy'])\n",
        "\n",
        "model.summary()"
      ]
    },
    {
      "cell_type": "code",
      "execution_count": null,
      "metadata": {
        "colab": {
          "background_save": true,
          "base_uri": "https://localhost:8080/"
        },
        "id": "58oNDFe2CGEk",
        "outputId": "e8e1e20d-c774-4aaa-8f1a-bbcc27130fe9"
      },
      "outputs": [
        {
          "name": "stdout",
          "output_type": "stream",
          "text": [
            "7\n"
          ]
        }
      ],
      "source": [
        "train_steps_per_epoch = np.math.ceil(train_batches.samples / train_batches.batch_size)\n",
        "print(train_steps_per_epoch)"
      ]
    },
    {
      "cell_type": "code",
      "execution_count": null,
      "metadata": {
        "colab": {
          "background_save": true,
          "base_uri": "https://localhost:8080/"
        },
        "id": "vIzxUudZCHiy",
        "outputId": "5c689e90-c83b-42c3-e7d5-49675ddad170"
      },
      "outputs": [
        {
          "name": "stdout",
          "output_type": "stream",
          "text": [
            "Epoch 1/50\n",
            "7/7 [==============================] - 111s 15s/step - loss: 5.0721 - accuracy: 0.5222\n",
            "Epoch 2/50\n",
            "7/7 [==============================] - 94s 13s/step - loss: 1.4930 - accuracy: 0.6995\n",
            "Epoch 3/50\n",
            "7/7 [==============================] - 97s 14s/step - loss: 0.9574 - accuracy: 0.7882\n",
            "Epoch 4/50\n",
            "7/7 [==============================] - 92s 13s/step - loss: 0.7017 - accuracy: 0.8227\n",
            "Epoch 5/50\n",
            "7/7 [==============================] - 96s 13s/step - loss: 0.4761 - accuracy: 0.8621\n",
            "Epoch 6/50\n",
            "7/7 [==============================] - 92s 13s/step - loss: 0.3890 - accuracy: 0.8424\n",
            "Epoch 7/50\n",
            "7/7 [==============================] - 95s 13s/step - loss: 0.2842 - accuracy: 0.8916\n",
            "Epoch 8/50\n",
            "7/7 [==============================] - 92s 13s/step - loss: 0.3307 - accuracy: 0.9163\n",
            "Epoch 9/50\n",
            "7/7 [==============================] - 91s 13s/step - loss: 0.2518 - accuracy: 0.8966\n",
            "Epoch 10/50\n",
            "7/7 [==============================] - 91s 13s/step - loss: 0.2661 - accuracy: 0.8966\n",
            "Epoch 11/50\n",
            "7/7 [==============================] - 94s 13s/step - loss: 0.3225 - accuracy: 0.9064\n",
            "Epoch 12/50\n",
            "7/7 [==============================] - 92s 14s/step - loss: 0.3260 - accuracy: 0.9113\n",
            "Epoch 13/50\n",
            "7/7 [==============================] - 96s 13s/step - loss: 0.2387 - accuracy: 0.9113\n",
            "Epoch 14/50\n",
            "7/7 [==============================] - 91s 13s/step - loss: 0.2045 - accuracy: 0.9212\n",
            "Epoch 15/50\n",
            "7/7 [==============================] - 96s 14s/step - loss: 0.3521 - accuracy: 0.9064\n",
            "Epoch 16/50\n",
            "7/7 [==============================] - 90s 13s/step - loss: 0.2212 - accuracy: 0.9261\n",
            "Epoch 17/50\n",
            "7/7 [==============================] - 94s 13s/step - loss: 0.2185 - accuracy: 0.9113\n",
            "Epoch 18/50\n",
            "7/7 [==============================] - 90s 13s/step - loss: 0.3122 - accuracy: 0.8768\n",
            "Epoch 19/50\n",
            "7/7 [==============================] - 91s 14s/step - loss: 0.1835 - accuracy: 0.9360\n",
            "Epoch 20/50\n",
            "7/7 [==============================] - 91s 13s/step - loss: 0.1586 - accuracy: 0.9507\n",
            "Epoch 21/50\n",
            "7/7 [==============================] - 92s 13s/step - loss: 0.2979 - accuracy: 0.9212\n",
            "Epoch 22/50\n",
            "7/7 [==============================] - 96s 14s/step - loss: 0.2430 - accuracy: 0.9458\n",
            "Epoch 23/50\n",
            "7/7 [==============================] - 91s 13s/step - loss: 0.1779 - accuracy: 0.9360\n",
            "Epoch 24/50\n",
            "7/7 [==============================] - 95s 15s/step - loss: 0.2110 - accuracy: 0.9458\n",
            "Epoch 25/50\n",
            "7/7 [==============================] - 91s 13s/step - loss: 0.1420 - accuracy: 0.9458\n",
            "Epoch 26/50\n",
            "7/7 [==============================] - 95s 13s/step - loss: 0.1596 - accuracy: 0.9261\n",
            "Epoch 27/50\n",
            "7/7 [==============================] - 91s 13s/step - loss: 0.0967 - accuracy: 0.9655\n",
            "Epoch 28/50\n",
            "7/7 [==============================] - 94s 15s/step - loss: 0.0892 - accuracy: 0.9754\n",
            "Epoch 29/50\n",
            "7/7 [==============================] - 90s 13s/step - loss: 0.0948 - accuracy: 0.9704\n",
            "Epoch 30/50\n",
            "7/7 [==============================] - 94s 15s/step - loss: 0.1216 - accuracy: 0.9458\n",
            "Epoch 31/50\n",
            "7/7 [==============================] - 92s 13s/step - loss: 0.1416 - accuracy: 0.9704\n",
            "Epoch 32/50\n",
            "7/7 [==============================] - 96s 14s/step - loss: 0.0785 - accuracy: 0.9754\n",
            "Epoch 33/50\n",
            "7/7 [==============================] - 90s 13s/step - loss: 0.1527 - accuracy: 0.9557\n",
            "Epoch 34/50\n",
            "7/7 [==============================] - 90s 13s/step - loss: 0.2089 - accuracy: 0.9261\n",
            "Epoch 35/50\n",
            "7/7 [==============================] - 94s 13s/step - loss: 0.3273 - accuracy: 0.9409\n",
            "Epoch 36/50\n",
            "7/7 [==============================] - 92s 13s/step - loss: 0.1560 - accuracy: 0.9310\n",
            "Epoch 37/50\n",
            "7/7 [==============================] - 92s 13s/step - loss: 0.0984 - accuracy: 0.9557\n",
            "Epoch 38/50\n",
            "7/7 [==============================] - 95s 13s/step - loss: 0.1480 - accuracy: 0.9704\n",
            "Epoch 39/50\n",
            "7/7 [==============================] - 92s 13s/step - loss: 0.2975 - accuracy: 0.9310\n",
            "Epoch 40/50\n",
            "7/7 [==============================] - 95s 13s/step - loss: 0.1882 - accuracy: 0.9409\n",
            "Epoch 41/50\n",
            "7/7 [==============================] - 94s 13s/step - loss: 0.1573 - accuracy: 0.9360\n",
            "Epoch 42/50\n",
            "7/7 [==============================] - 92s 13s/step - loss: 0.1609 - accuracy: 0.9507\n",
            "Epoch 43/50\n",
            "7/7 [==============================] - 91s 13s/step - loss: 0.1946 - accuracy: 0.9557\n",
            "Epoch 44/50\n",
            "7/7 [==============================] - 92s 13s/step - loss: 0.1474 - accuracy: 0.9606\n",
            "Epoch 45/50\n",
            "7/7 [==============================] - 92s 13s/step - loss: 0.1676 - accuracy: 0.9409\n",
            "Epoch 46/50\n",
            "7/7 [==============================] - 90s 13s/step - loss: 0.1845 - accuracy: 0.9557\n",
            "Epoch 47/50\n",
            "7/7 [==============================] - 95s 13s/step - loss: 0.1778 - accuracy: 0.9360\n",
            "Epoch 48/50\n",
            "7/7 [==============================] - 91s 13s/step - loss: 0.1059 - accuracy: 0.9606\n",
            "Epoch 49/50\n",
            "7/7 [==============================] - 97s 13s/step - loss: 0.2190 - accuracy: 0.9606\n",
            "Epoch 50/50\n",
            "7/7 [==============================] - 93s 13s/step - loss: 0.1320 - accuracy: 0.9507\n"
          ]
        }
      ],
      "source": [
        "from IPython.display import display\n",
        "from PIL import Image\n",
        "history = model.fit(train_batches, steps_per_epoch=7, callbacks = [tensorboard], epochs=50)"
      ]
    },
    {
      "cell_type": "code",
      "execution_count": null,
      "metadata": {
        "colab": {
          "base_uri": "https://localhost:8080/"
        },
        "id": "t5rP-D4Qfwuf",
        "outputId": "7d33c4ea-5dd7-4374-d011-b34cfe77ddaf"
      },
      "outputs": [
        {
          "data": {
            "text/plain": [
              "dict_keys(['loss', 'accuracy'])"
            ]
          },
          "execution_count": 42,
          "metadata": {},
          "output_type": "execute_result"
        }
      ],
      "source": [
        "history.history.keys()"
      ]
    },
    {
      "cell_type": "code",
      "execution_count": null,
      "metadata": {
        "colab": {
          "base_uri": "https://localhost:8080/",
          "height": 472
        },
        "id": "DxM6iRreg_u-",
        "outputId": "fa2d3b6e-2999-4d72-9299-03ba0027df2a"
      },
      "outputs": [
        {
          "data": {
            "image/png": "[encoded data removed]",
            "text/plain": [
              "<Figure size 640x480 with 1 Axes>"
            ]
          },
          "metadata": {},
          "output_type": "display_data"
        }
      ],
      "source": [
        "import matplotlib.pyplot as plt\n",
        "\n",
        "plt.plot(history.history['accuracy'])\n",
        "plt.title('model accuracy')\n",
        "plt.ylabel('accuracy')\n",
        "plt.xlabel('epoch')\n",
        "plt.legend(['train'],loc='upper left')\n",
        "plt.show()"
      ]
    },
    {
      "cell_type": "code",
      "execution_count": null,
      "metadata": {
        "colab": {
          "base_uri": "https://localhost:8080/",
          "height": 472
        },
        "id": "IU7jtDISiwst",
        "outputId": "217218a0-daf0-4b37-8025-728e022113fc"
      },
      "outputs": [
        {
          "data": {
            "image/png": "[encoded data removed]",
            "text/plain": [
              "<Figure size 640x480 with 1 Axes>"
            ]
          },
          "metadata": {},
          "output_type": "display_data"
        }
      ],
      "source": [
        "import matplotlib.pyplot as plt\n",
        "\n",
        "plt.plot(history.history['loss'])\n",
        "plt.title('model loss')\n",
        "plt.ylabel('loss')\n",
        "plt.xlabel('epoch')\n",
        "plt.legend(['train'],loc='upper left')\n",
        "plt.show()"
      ]
    },
    {
      "cell_type": "code",
      "execution_count": null,
      "metadata": {
        "id": "2rNbXIhyC4jb"
      },
      "outputs": [],
      "source": [
        "model.save('detection.h5')"
      ]
    },
    {
      "cell_type": "code",
      "execution_count": null,
      "metadata": {
        "id": "Ou3PgBCvDW3h"
      },
      "outputs": [],
      "source": [
        "from tensorflow.keras.models import load_model\n",
        "\n",
        "path_to_model = '/content/Arrythmia detection.h5'\n",
        "\n",
        "model = load_model(path_to_model)"
      ]
    },
    {
      "cell_type": "code",
      "execution_count": null,
      "metadata": {
        "colab": {
          "base_uri": "https://localhost:8080/"
        },
        "id": "uMUFpM-fjqD6",
        "outputId": "e6e45367-c243-4c45-eddc-641771ae288e"
      },
      "outputs": [
        {
          "name": "stdout",
          "output_type": "stream",
          "text": [
            "\r1/2 [==============>...............] - ETA: 1s - loss: 12.7629 - accuracy: 0.2414"
          ]
        },
        {
          "name": "stderr",
          "output_type": "stream",
          "text": [
            "WARNING:tensorflow:Your input ran out of data; interrupting training. Make sure that your dataset or generator can generate at least `steps_per_epoch * epochs` batches (in this case, 2 batches). You may need to use the repeat() function when building your dataset.\n"
          ]
        },
        {
          "name": "stdout",
          "output_type": "stream",
          "text": [
            "\b\b\b\b\b\b\b\b\b\b\b\b\b\b\b\b\b\b\b\b\b\b\b\b\b\b\b\b\b\b\b\b\b\b\b\b\b\b\b\b\b\b\b\b\b\b\b\b\b\b\b\b\b\b\b\b\b\b\b\b\b\b\b\b\b\b\b\b\b\b\b\b\b\b\b\b\b\b\b\b\b\r2/2 [==============================] - 1s 46ms/step - loss: 12.7629 - accuracy: 0.2414\n",
            "The testing accuracy is: 24.13793057203293 %\n"
          ]
        }
      ],
      "source": [
        "test_steps_per_epoch = np.math.ceil(test_batches.samples / test_batches.batch_size)\n",
        "test_accu = model.evaluate(test_batches, steps=2)\n",
        "\n",
        "print('The testing accuracy is:',test_accu[1]*100, '%')"
      ]
    },
    {
      "cell_type": "code",
      "execution_count": null,
      "metadata": {
        "colab": {
          "base_uri": "https://localhost:8080/"
        },
        "id": "pRxqFQ2UQjPT",
        "outputId": "a8cd4a8b-1d34-472b-ce2d-d624a9853752"
      },
      "outputs": [
        {
          "name": "stdout",
          "output_type": "stream",
          "text": [
            "1\n",
            "1/2 [==============>...............] - ETA: 0s"
          ]
        },
        {
          "name": "stderr",
          "output_type": "stream",
          "text": [
            "WARNING:tensorflow:Your input ran out of data; interrupting training. Make sure that your dataset or generator can generate at least `steps_per_epoch * epochs` batches (in this case, 2 batches). You may need to use the repeat() function when building your dataset.\n"
          ]
        },
        {
          "name": "stdout",
          "output_type": "stream",
          "text": [
            "\b\b\b\b\b\b\b\b\b\b\b\b\b\b\b\b\b\b\b\b\b\b\b\b\b\b\b\b\b\b\b\b\b\b\b\b\b\b\b\b\b\b\b\b\b\b\r2/2 [==============================] - 0s 62ms/step\n",
            "[2 2 2 2 2 2 3 2 3 3 3 2 2 2 2 2 2 2 2 2 2 2 2 2 2 2 2 2 2]\n",
            "29\n"
          ]
        }
      ],
      "source": [
        "test_steps_per_epoch = np.math.ceil(test_batches.samples / test_batches.batch_size)\n",
        "print(test_steps_per_epoch)\n",
        "\n",
        "predictions = model.predict(test_batches, steps=2)\n",
        "\n",
        "# Get most likely class\n",
        "predicted_classes = np.argmax(predictions, axis=1)\n",
        "print(predicted_classes)\n",
        "print(len(predicted_classes))"
      ]
    },
    {
      "cell_type": "code",
      "execution_count": null,
      "metadata": {
        "id": "375nqeXtSR22"
      },
      "outputs": [],
      "source": [
        "filename = \"/content/drive/MyDrive/Dataset/test/F/Ffig_6.png\""
      ]
    },
    {
      "cell_type": "code",
      "execution_count": null,
      "metadata": {
        "colab": {
          "base_uri": "https://localhost:8080/"
        },
        "id": "rqFPicMJSn_n",
        "outputId": "031634ce-e4af-4502-b3ba-c2298fc0d737"
      },
      "outputs": [
        {
          "name": "stdout",
          "output_type": "stream",
          "text": [
            "1/1 [==============================] - 0s 25ms/step\n",
            "[[3.6025280e-10 1.2508655e-06 7.2813940e-01 2.7185941e-01 2.0601744e-17]]\n",
            "Patient have N type Arrythmia\n"
          ]
        }
      ],
      "source": [
        "from tensorflow.keras.preprocessing.image import ImageDataGenerator, img_to_array, load_img\n",
        "image = load_img(filename, target_size=(128, 128))\n",
        "image = img_to_array(image)\n",
        "image = np.expand_dims(image, axis=0)\n",
        "image /= 255.0\n",
        "pred = model.predict(image.reshape((1, 128, 128, 3)))\n",
        "print(pred)\n",
        "pred_class = pred.argmax(axis=1)\n",
        "if(pred_class == 1):\n",
        "  print('Patient have S type Arrythmia')\n",
        "elif(pred_class == 2):\n",
        "  print('Patient have N type Arrythmia')\n",
        "elif(pred_class == 3):\n",
        "  print('Patient have F type Arrythmia')\n",
        "elif(pred_class== 4):\n",
        "  print('Patient have Q type Arrythmia')\n",
        "else:\n",
        "  print('Patient have V type Arrythmia')"
      ]
    }
  ],
  "metadata": {
    "colab": {
      "provenance": [],
      "include_colab_link": true
    },
    "kernelspec": {
      "display_name": "Python 3",
      "name": "python3"
    },
    "language_info": {
      "name": "python"
    }
  },
  "nbformat": 4,
  "nbformat_minor": 0
}